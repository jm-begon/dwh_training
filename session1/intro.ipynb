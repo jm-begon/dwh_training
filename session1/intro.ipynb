{
 "cells": [
  {
   "cell_type": "markdown",
   "metadata": {},
   "source": [
    "# Introduction to Python\n",
    "\n",
    ":hourglass: 3h"
   ]
  },
  {
   "cell_type": "markdown",
   "metadata": {},
   "source": [
    "## From declarative to imperative\n",
    "\n",
    "> A (programming) paradigmn is a way to think about, approach and solve a problem. It defines the (conceptual) primitives in which to think in order to create the solution.\n",
    "\n",
    "There are several broad families of paradigms:\n",
    "- **Imperative**: dictates how the state evolves\n",
    "  * *Procedural*: the primitives are procedures (~functions);\n",
    "  * *OOP*: the primitives are objects exchanging messages;\n",
    "- **Declarative**: expresses the desired outcome\n",
    "\n",
    "In SQL, you do not think about how the machine will solve the query. In Python, you must tell the computer what to do at each step."
   ]
  },
  {
   "cell_type": "markdown",
   "metadata": {},
   "source": [
    "## The Python ecosystem\n",
    "\n",
    "Python is an dynamically-typed, interpreted programming language:\n",
    "\n",
    "- **dynamically-typed** means the value of variable can evolve during execution (opposite of statically-type)\n",
    "- **interpreted** means that the code is fed line by line by to an interpreter, which produced execution on the fly (opposite of compiled, which produces a binary file of executable code thanks to the compiler)\n",
    "\n",
    "There are several implementations of the interpreter. Unless mentioned otherwise, people use the reference interpreter written in `C`: CPython.\n",
    "\n",
    "The interpreter works in a REPL fashion:\n",
    "- **R**ead\n",
    "- **E**val\n",
    "- **P**rint\n",
    "- **L**oop\n",
    "\n",
    "which means a statement is read, then evaluated and the result is print. Then it starts again. \n",
    "\n",
    "By feeding the interpreter statements after statements, we can run programs. Such programs are written in one or several `py` files. The terminology is the following:\n",
    "- **script**: a `.py` file with a main entry point (`if __name__ == \"__main__\"`)\n",
    "- **module**: a `.py` file whose goal is to be imported\n",
    "- **package**: a collection of related modules (identified by a `__init__` file)\n",
    "- **library** a (collection of) package(s) which provides an API\n",
    "\n",
    "It is also worth mentioning\n",
    "- **(Jupyter) notebook**: an interactive environment to run Python code\n",
    "- **IDE** for *Integrated* *Development* *Environment*, a software which makes it easy to write code (eg. PyCharm, VS Code)\n",
    "\n",
    "The Python ecosystem relies on making libraries available. A packet manager (eg. `pip`) is used to download a given library. Maintaining dependencies up-to-date manually is quite tricky and cumbersome. Other tools, such as `conda`, `pip-tools` and `poetry` are build on top of `pip` to manage the dependencies more easily. For a real project, other files (eg. `pyproject.toml`) might be necessary.\n",
    "\n",
    "Finally, let us note that there are several versions of Python. We will be working with 3.9 (although at time of writing, the latest version is 3.12)"
   ]
  },
  {
   "cell_type": "markdown",
   "metadata": {},
   "source": [
    "> Look at the hello world example and other code bases."
   ]
  },
  {
   "cell_type": "markdown",
   "metadata": {},
   "source": [
    "## The Python syntax\n"
   ]
  },
  {
   "cell_type": "markdown",
   "metadata": {},
   "source": [
    "### Literals and operators\n",
    "\n",
    "Strings, numbers and booleans can be encoded as literal in Python:\n",
    "\n",
    "| **Literal Type**       | **Example**                         |\n",
    "|------------------------|-------------------------------------|\n",
    "| **String Literals**    | `'Hello'`, `\"World\"`, `'''Hi'''`    |\n",
    "| **Numeric Literals**   | `42`, `3.14`, `1.0e4`, `3 + 4j`     |\n",
    "| **Boolean Literals**   | `True`, `False`                     |\n",
    "| **None Literal**       | `None`                              |\n",
    "\n",
    "\n",
    "\n",
    "You can perform (some of) the following operations between literals:\n",
    "\n",
    "| **Category**      | **Operator** | **Description**                                | **Example**                     |\n",
    "|-------------------|--------------|------------------------------------------------|---------------------------------|\n",
    "| Arithmetic        | `+`          | Addition                                       | `a + b`                         |\n",
    "|                   | `-`          | Subtraction                                    | `a - b`                         |\n",
    "|                   | `*`          | Multiplication                                 | `a * b`                         |\n",
    "|                   | `/`          | Division                                       | `a / b`                         |\n",
    "|                   | `//`         | Floor Division                                 | `a // b`                        |\n",
    "|                   | `%`          | Modulus (Remainder)                            | `a % b`                         |\n",
    "|                   | `**`         | Exponentiation                                 | `a ** b`                        |\n",
    "| Comparison        | `==`         | Equal to                                       | `a == b`                        |\n",
    "|                   | `!=`         | Not equal to                                   | `a != b`                        |\n",
    "|                   | `>`          | Greater than                                   | `a > b`                         |\n",
    "|                   | `<`          | Less than                                      | `a < b`                         |\n",
    "|                   | `>=`         | Greater than or equal to                       | `a >= b`                        |\n",
    "|                   | `<=`         | Less than or equal to                          | `a <= b`                        |\n",
    "| Logical           | `and`        | Logical AND                                    | `a and b`                       |\n",
    "|                   | `or`         | Logical OR                                     | `a or b`                        |\n",
    "|                   | `not`        | Logical NOT                                    | `not a`                         |\n"
   ]
  },
  {
   "cell_type": "code",
   "execution_count": null,
   "metadata": {},
   "outputs": [],
   "source": [
    "# Arithmetic\n",
    "\n",
    "2 + 3"
   ]
  },
  {
   "cell_type": "code",
   "execution_count": null,
   "metadata": {},
   "outputs": [],
   "source": [
    "# What is the integer part and remainder of 59 plus 2 divided by 7 times 3 (don't forget the parentheses)"
   ]
  },
  {
   "cell_type": "code",
   "execution_count": null,
   "metadata": {},
   "outputs": [],
   "source": [
    "True and not False"
   ]
  },
  {
   "cell_type": "code",
   "execution_count": null,
   "metadata": {},
   "outputs": [],
   "source": [
    "# The validity and semantics of operators change according to the types (beware, break of communativity)\n",
    "\n",
    "\"Hell\" + \"o\""
   ]
  },
  {
   "cell_type": "code",
   "execution_count": null,
   "metadata": {},
   "outputs": [],
   "source": [
    "\"abcd\" < \"abef\"  # lexicographic ordering"
   ]
  },
  {
   "cell_type": "markdown",
   "metadata": {},
   "source": [
    "### Variables and delcaration\n",
    "You can store a value (literal or result) in a variable."
   ]
  },
  {
   "cell_type": "code",
   "execution_count": null,
   "metadata": {},
   "outputs": [],
   "source": [
    "x = 2\n",
    "y = 3\n",
    "\n",
    "z = 4*x - y\n",
    "10-z"
   ]
  },
  {
   "cell_type": "markdown",
   "metadata": {},
   "source": [
    "Some operators are dedicated to assignments:\n",
    "\n",
    "| **Category**      | **Operator** | **Description**                                | **Example**                     |\n",
    "|-------------------|--------------|------------------------------------------------|---------------------------------|\n",
    "| Assignment        | `=`          | Assign                                         | `a = b`                         |\n",
    "|                   | `+=`         | Add and assign                                 | `a += b` (equivalent to `a = a + b`) |\n",
    "|                   | `-=`         | Subtract and assign                            | `a -= b` (equivalent to `a = a - b`) |\n",
    "|                   | `*=`         | Multiply and assign                            | `a *= b` (equivalent to `a = a * b`) |\n",
    "|                   | `/=`         | Divide and assign                              | `a /= b` (equivalent to `a = a / b`) |\n",
    "|                   | `//=`        | Floor divide and assign                        | `a //= b` (equivalent to `a = a // b`) |\n",
    "|                   | `%=`         | Modulus and assign                             | `a %= b` (equivalent to `a = a % b`) |\n",
    "|                   | `**=`        | Exponentiate and assign                        | `a **= b` (equivalent to `a = a ** b`) |\n",
    "\n",
    "> :warning: the `=` is for assignments, it does not represent an equivalance relationship. In particular, it is not communative."
   ]
  },
  {
   "cell_type": "code",
   "execution_count": null,
   "metadata": {},
   "outputs": [],
   "source": [
    "x = 2\n",
    "x += 5\n",
    "x"
   ]
  },
  {
   "cell_type": "markdown",
   "metadata": {},
   "source": [
    ":skull: there exists other operators\n",
    "\n",
    "| **Category**      | **Operator** | **Description**                                | **Example**                     |\n",
    "|-------------------|--------------|------------------------------------------------|---------------------------------|\n",
    "| Bitwise           | `&`          | Bitwise AND                                    | `a & b`                         |\n",
    "|                   | `|`          | Bitwise OR                                     | `a | b`                         |\n",
    "|                   | `^`          | Bitwise XOR                                    | `a ^ b`                         |\n",
    "|                   | `~`          | Bitwise NOT                                    | `~a`                            |\n",
    "|                   | `<<`         | Bitwise left shift                             | `a << b`                        |\n",
    "|                   | `>>`         | Bitwise right shift                            | `a >> b`                        |\n",
    "| Identity          | `is`         | Is identical to                                | `a is b`                        |\n",
    "|                   | `is not`     | Is not identical to                            | `a is not b`                    |\n",
    "| Membership        | `in`         | Is a member of                                 | `a in b`                        |\n",
    "|                   | `not in`     | Is not a member of                             | `a not in b`                    |"
   ]
  },
  {
   "cell_type": "markdown",
   "metadata": {},
   "source": [
    "> Note that Python makes a distinction between interger (`int`) and real numbers (`float`), as well as a string (`str`) representation of them."
   ]
  },
  {
   "cell_type": "code",
   "execution_count": null,
   "metadata": {},
   "outputs": [],
   "source": [
    "print(type(2))\n",
    "print(type(2.0))\n",
    "print(type(\"2\"))"
   ]
  },
  {
   "cell_type": "markdown",
   "metadata": {},
   "source": [
    "You can use `int`, `float` and `str` to cast to the proper type. Note that anything can be cast to a string via `str`."
   ]
  },
  {
   "cell_type": "markdown",
   "metadata": {},
   "source": [
    "### Control structure: `if`\n",
    "\n",
    "Branching is a big part of imperative programming. It allows to select which code to execute given some context."
   ]
  },
  {
   "cell_type": "code",
   "execution_count": null,
   "metadata": {},
   "outputs": [],
   "source": [
    "x = 3  # change the value of x\n",
    "if x % 2 == 0:\n",
    "    print(\"x is even\")\n",
    "else:\n",
    "    print(\"x is odd\")"
   ]
  },
  {
   "cell_type": "markdown",
   "metadata": {},
   "source": [
    "> :exclamation: Remark how we indent the code within each branch. This is how the interpreter knows which block to execute. \n",
    "\n",
    "A few notes:\n",
    "- the content of the `if` clause must evaluate to a boolean\n",
    "- the `else` part is not mandatory in imperative programming\n",
    "- more paths are possible thanks to the `elif` statement."
   ]
  },
  {
   "cell_type": "code",
   "execution_count": null,
   "metadata": {},
   "outputs": [],
   "source": [
    "x = 1 # change the value of x\n",
    "\n",
    "if x == 1:\n",
    "    print(\"one\")\n",
    "elif x == 2:\n",
    "    print(\"two\")\n",
    "elif x == 3:\n",
    "    print(\"three\")\n",
    "else:\n",
    "    print(x)"
   ]
  },
  {
   "cell_type": "markdown",
   "metadata": {},
   "source": [
    "> :bulb: it is important to give clear names to variable so as to remember what they represent. In Python, the following conventions is used:\n",
    "\n",
    "| **Element**            | **Convention**                   | **Example**                      |\n",
    "|------------------------|----------------------------------|----------------------------------|\n",
    "| **Variable**           | snake_case                       | `my_variable`, `total_count`     |\n",
    "| **Constant**           | UPPER_CASE_SNAKE_CASE            | `PI`, `MAX_VALUE`                |\n",
    "| **Function**           | snake_case                       | `my_function()`, `calculate_total()` |\n",
    "| **Class**              | CamelCase (PascalCase)           | `MyClass`, `EmployeeDetails`     |\n",
    "| **Module**             | snake_case                       | `my_module.py`, `utils.py`       |\n",
    "| **Package**            | snake_case                       | `my_package`, `data_processing`  |\n",
    "| **Private Variable**   | _underscore_prefix               | `_private_variable`              |\n",
    "| **Private Function**   | _underscore_prefix               | `_private_function()`            |\n",
    "| **Special Method**     | __double_underscore__            | `__init__()`, `__str__()`        |\n",
    "\n",
    "There is actually a full standard regarding style: [PEP8](https://peps.python.org/pep-0008/)"
   ]
  },
  {
   "cell_type": "markdown",
   "metadata": {},
   "source": [
    "### Control structure: `for`\n",
    "\n",
    "A `for` loop is used to iterate over some element."
   ]
  },
  {
   "cell_type": "code",
   "execution_count": null,
   "metadata": {},
   "outputs": [],
   "source": [
    "for x in range(10):\n",
    "    print(x, end=\", \")\n",
    "# Note how x goes from `0` to `9`"
   ]
  },
  {
   "cell_type": "markdown",
   "metadata": {},
   "source": [
    ":pencil2: write a loop that goes over the number from 0 to 100 and adds the multiples of 7."
   ]
  },
  {
   "cell_type": "markdown",
   "metadata": {},
   "source": [
    "#### Break and continue\n",
    "\n",
    "You can use the following statements to alter the proceedings of the loop:\n",
    "- `break`: exit the loop before the end\n",
    "- `continue`: jump to the next iteration\n",
    "\n",
    "Can you predict what will be the result of the following snipet?"
   ]
  },
  {
   "cell_type": "code",
   "execution_count": null,
   "metadata": {},
   "outputs": [],
   "source": [
    "for i in range(10):\n",
    "    if i > 5:\n",
    "        break\n",
    "    if i % 2 == 0:\n",
    "        print(i)"
   ]
  },
  {
   "cell_type": "markdown",
   "metadata": {},
   "source": [
    "### Basic data structure: `list` and `tuple`\n",
    "\n",
    "One of the most common data structures are `list` and `tuple`. They \n",
    "- can store elements (ie. container)\n",
    "- are finite (ie. collection)\n",
    "- are sequences (ie. ordered)\n",
    "\n",
    "The difference is that the `list` is mutable, but the `tuple` is not. Mutable means that it can change after creation."
   ]
  },
  {
   "cell_type": "code",
   "execution_count": null,
   "metadata": {},
   "outputs": [],
   "source": [
    "ls = [1, 2, 3]\n",
    "\n",
    "print(\"length:\", len(ls))\n",
    "print(\"content:\")\n",
    "# The sequence is indexable: we can access a given element via the `[]`\n",
    "print(ls[0])  # Note how we start at zero\n",
    "print(ls[1])\n",
    "print(ls[2])\n",
    "print(\"2 in ls?\", 2 in ls)\n",
    "\n",
    "ls.append(4)  # The list is mutable; in particular we can append to it\n",
    "ls"
   ]
  },
  {
   "cell_type": "code",
   "execution_count": null,
   "metadata": {},
   "outputs": [],
   "source": [
    "ts = (1, 2, 3)\n",
    "\n",
    "print(\"length:\", len(ts))\n",
    "print(\"content:\")\n",
    "print(ts[0]) \n",
    "print(ts[1])\n",
    "print(ts[2])\n",
    "print(\"2 in ts?\", 2 in ts)\n",
    "\n",
    "# we cannot append to the tuple"
   ]
  },
  {
   "cell_type": "code",
   "execution_count": null,
   "metadata": {},
   "outputs": [],
   "source": [
    "# You can iterate over lists and tuples\n",
    "ls = [1, 2, 3]\n",
    "ts = 1, 2, 3 # Note that the parentheses are not mandatory when creating a tuple\n",
    "\n",
    "print(\"Iterating over ls...\")\n",
    "for x in ls:\n",
    "    print(x, sep=\", \")\n",
    "\n",
    "print(\"Iterating over ts...\")\n",
    "for x in ts:\n",
    "    print(x, sep=\", \")"
   ]
  },
  {
   "cell_type": "code",
   "execution_count": null,
   "metadata": {},
   "outputs": [],
   "source": [
    "# You can concatenate lists:\n",
    "l1 = [1, 2, 3]\n",
    "l2 = [4, 5]\n",
    "l1+l2"
   ]
  },
  {
   "cell_type": "code",
   "execution_count": null,
   "metadata": {},
   "outputs": [],
   "source": [
    "# You can convert a list to a tuple:\n",
    "a = [1, 2, 3]\n",
    "tuple(a)"
   ]
  },
  {
   "cell_type": "code",
   "execution_count": null,
   "metadata": {},
   "outputs": [],
   "source": [
    "# and vice versa:\n",
    "b = 1, 2, 3  \n",
    "list(b)"
   ]
  },
  {
   "cell_type": "code",
   "execution_count": null,
   "metadata": {},
   "outputs": [],
   "source": [
    "# You unpack tuples (and lists)\n",
    "ts = 1, 2, 3\n",
    "t1, t2, t3 = ts\n",
    "print(t1)\n",
    "print(t2)\n",
    "print(t3)"
   ]
  },
  {
   "cell_type": "code",
   "execution_count": null,
   "metadata": {},
   "outputs": [],
   "source": [
    "# You can slice a sequence\n",
    "ls = [0, 1, 2, 3, 4, 5, 6, 7, 8, 9]\n",
    "\n",
    "print(\"Case 1:\", ls[2:5])\n",
    "print(\"Case 2:\", ls[2:])\n",
    "print(\"Case 3:\", ls[:5])\n",
    "print(\"Case 4:\", ls[:-2])"
   ]
  },
  {
   "cell_type": "markdown",
   "metadata": {},
   "source": [
    ":pencil2: **Exercise** :pencil2: write the insertion sort algorithm: at iteration `k` the `k` first elements of a list are already sorted; the goal is to insert the next element at its proper place in the array by working backward from position `k` to `0`. "
   ]
  },
  {
   "cell_type": "code",
   "execution_count": null,
   "metadata": {},
   "outputs": [],
   "source": []
  },
  {
   "cell_type": "markdown",
   "metadata": {},
   "source": [
    "### Basic data structure: `dictionary`\n",
    "\n",
    "Another important data structure is mapping, which associates a key to a value."
   ]
  },
  {
   "cell_type": "code",
   "execution_count": null,
   "metadata": {},
   "outputs": [],
   "source": [
    "map = {\"one\": 1, \"two\": 2, \"four\": 4}\n",
    "\n",
    "# The dictionary is indexable: we can access a given value via asking for a key with `[]`\n",
    "print(map[\"one\"])\n",
    "print(map[\"two\"])\n",
    "print(map[\"four\"])\n",
    "\n",
    "# We can also check the presence of a key\n",
    "print(\"one?\", \"one\" in map)\n",
    "print(\"three?\", \"three\" in map)\n",
    "\n",
    "\n",
    "# We can access the keys and values\n",
    "print(\"keys:\", map.keys())\n",
    "print(\"keys:\", map.values())\n"
   ]
  },
  {
   "cell_type": "code",
   "execution_count": null,
   "metadata": {},
   "outputs": [],
   "source": [
    "# the keys(), values() and items() allow to iterate over the elements\n",
    "print(\"Iterating over keys:\")\n",
    "for key in map.keys():\n",
    "    print(key, end=\", \")\n",
    "\n",
    "print(\"Iterating over values:\")\n",
    "for value in map.values():\n",
    "    print(value, end=\", \")\n",
    "\n",
    "print(\"Iterating over key/value pairs:\")\n",
    "for key, value in map.items():  # we receive tuples, which we unpack\n",
    "    print(key, \"=\", value, end=\", \", sep=\"\")"
   ]
  },
  {
   "cell_type": "code",
   "execution_count": null,
   "metadata": {},
   "outputs": [],
   "source": [
    "# The dictionary is mutable, unordered and keys are unique\n",
    "\n",
    "map = {\"one\": 1, \"two\": 2, \"four\": 4}\n",
    "print(map)\n",
    "\n",
    "map[\"one\"] = 100\n",
    "print(map)\n"
   ]
  },
  {
   "cell_type": "markdown",
   "metadata": {},
   "source": [
    "> :book: Literal types for basic data strcutures\n",
    "\n",
    "| **Literal Type**       | **Example**                         |\n",
    "|------------------------|-------------------------------------|\n",
    "| **List Literals**      | `[1, 2, 3]`, `['a', 'b', 'c']`      |\n",
    "| **Tuple Literals**     | `(1, 2, 3)`, `('a', 'b', 'c')`      |\n",
    "| **Dictionary Literals**| `{'key1': 'value1'}`, `{1: 'one'}`  |\n",
    "| **Set Literals**       | `{1, 2, 3}`, `{'a', 'b', 'c'}`      |"
   ]
  },
  {
   "cell_type": "markdown",
   "metadata": {},
   "source": [
    "### Control flow: exceptions\n",
    "\n",
    "In Python, errors are handled via `Exception`. Here are a few examples."
   ]
  },
  {
   "cell_type": "code",
   "execution_count": null,
   "metadata": {},
   "outputs": [],
   "source": [
    "10 / 0"
   ]
  },
  {
   "cell_type": "code",
   "execution_count": null,
   "metadata": {},
   "outputs": [],
   "source": [
    "\"abc\" - 2"
   ]
  },
  {
   "cell_type": "code",
   "execution_count": null,
   "metadata": {},
   "outputs": [],
   "source": [
    "ls = [1, 2, 3]\n",
    "ls[4]"
   ]
  },
  {
   "cell_type": "code",
   "execution_count": null,
   "metadata": {},
   "outputs": [],
   "source": [
    "map = {1:1}\n",
    "map[2]"
   ]
  },
  {
   "cell_type": "markdown",
   "metadata": {},
   "source": [
    "In Python, you can raise and handle exceptions.\n",
    "\n",
    "**Raising** (or throwing) an exception means the normal flow will be interrupted and the exception will be propagated until caught--or will shutdown the execution. This is done via the `raise` statement.\n",
    "\n",
    "**Handling** (or catching) an exception means the error propagation is stopped so that normal execution can resume. Only the part of the program which handles the exception needs to catch it. This is done via the `try`/`except` statements."
   ]
  },
  {
   "cell_type": "code",
   "execution_count": null,
   "metadata": {},
   "outputs": [],
   "source": [
    "# Raising an exception\n",
    "\n",
    "anaerobic = \"abcdr\"\n",
    "\n",
    "if \"r\" in anaerobic:\n",
    "    raise ValueError(\"No 'r' allowed\")"
   ]
  },
  {
   "cell_type": "code",
   "execution_count": null,
   "metadata": {},
   "outputs": [],
   "source": [
    "# Handling an exception\n",
    "denominator = 0  # Change this value\n",
    "\n",
    "try:\n",
    "    ans = 0 / denominator\n",
    "except ZeroDivisionError:\n",
    "    ans = 1\n",
    "\n",
    "ans"
   ]
  },
  {
   "cell_type": "markdown",
   "metadata": {},
   "source": [
    "It is possible to create custom exceptions by inheriting from an exception class (see https://docs.python.org/3.9/library/exceptions.html#inheriting-from-built-in-exceptions).\n",
    "\n",
    "Although this is encouraged in some languages, not so much in Python, where the exception hierarchy already provides comprehensive classes. In particular, it is worth knowing the following:\n",
    "\n",
    "- **AssertionError**: raised when an assertion is violated (raised via the assert statement);\n",
    "- **AttributeError**: raised when trying to access an attribute of an object which does not exist;\n",
    "- **RuntimeError**: raised when something occurs at runtime and no more specific exception can be used;\n",
    "- **NotImplementedError**: raised by an abstract method (*);\n",
    "- **TypeError**: raised when the object is not of the proper type for some operation;\n",
    "- **ValueError**: raised when the value is inappropriate (but the type is correct).\n",
    "\n",
    "> The `try`/`except` syntax can be much more complicated. It is possible to catch several exception types as one, or have several handling blocks depending on the exception. It is even possible to have a statement executed whether or not an error occured (eg. free some resources).\n"
   ]
  },
  {
   "cell_type": "markdown",
   "metadata": {},
   "source": [
    "### Function declaration\n",
    "\n",
    "You can isolate part of the code in a function. This is useful either to limit redundant code or(/and) structure the code base. A function with a clear name, and clear parameter names is often more useful than commenting the code. A function can take inputs and can return something. "
   ]
  },
  {
   "cell_type": "code",
   "execution_count": null,
   "metadata": {},
   "outputs": [],
   "source": [
    "import math \n",
    "\n",
    "def circle_area(radius):\n",
    "    return math.pi * (radius**2)\n",
    "\n",
    "\n",
    "circle_area(5)"
   ]
  },
  {
   "cell_type": "markdown",
   "metadata": {},
   "source": [
    ":pencil2: **Exercise** :pencil2: Write a function which takes as input a list of numbers and returns the sum of its elements."
   ]
  },
  {
   "cell_type": "code",
   "execution_count": null,
   "metadata": {},
   "outputs": [],
   "source": []
  },
  {
   "cell_type": "markdown",
   "metadata": {},
   "source": [
    "> **Scope**: a variable only lives within the block it is created."
   ]
  },
  {
   "cell_type": "code",
   "execution_count": null,
   "metadata": {},
   "outputs": [],
   "source": [
    "def add(a, b):\n",
    "    add_result = a + b\n",
    "    return add_result\n",
    "\n",
    "add_result"
   ]
  },
  {
   "cell_type": "markdown",
   "metadata": {},
   "source": [
    "#### :skull: Recursion"
   ]
  },
  {
   "cell_type": "code",
   "execution_count": null,
   "metadata": {},
   "outputs": [],
   "source": [
    "def factorial(n):\n",
    "    # print(\"factorial of\", n)  # uncomment to see the calls\n",
    "    if n == 0:\n",
    "        return 1\n",
    "    return n * factorial(n-1)\n",
    "\n",
    "factorial(5)"
   ]
  },
  {
   "cell_type": "markdown",
   "metadata": {},
   "source": [
    ":skull: :pencil2: **Exercise** Mergesort :pencil2: Write a function which sorts a list of numbers by recursively splitting it in two and merging back the sorted sublist into a single sorted list."
   ]
  },
  {
   "cell_type": "code",
   "execution_count": null,
   "metadata": {},
   "outputs": [],
   "source": []
  },
  {
   "cell_type": "markdown",
   "metadata": {},
   "source": [
    "### File manipulation\n",
    "\n",
    "To read from or write to a file, you need to have a representation of the file (`Path(...)`) and open it in the proper format (`w`, `wb`, `a`, `ab`, `r`, `rb`). Opening the file is done in a `with` statement, which makes sure the file will be closed properly at the end of the block."
   ]
  },
  {
   "cell_type": "code",
   "execution_count": null,
   "metadata": {},
   "outputs": [],
   "source": [
    "# Writing a file\n",
    "import json\n",
    "import pathlib\n",
    "\n",
    "# Step 1: create the representation of a file\n",
    "file = pathlib.Path(\"data.json\")\n",
    "\n",
    "# Step 2: Prepare the data\n",
    "data = {\n",
    "    \"name\": \"John Doe\",\n",
    "    \"age\": 30,\n",
    "    \"city\": \"New York\",\n",
    "    \"hasChildren\": False,\n",
    "    \"children\": None,\n",
    "    \"pets\": [\"dog\", \"cat\"],\n",
    "    \"cars\": [\n",
    "        {\"model\": \"Toyota Camry\", \"mpg\": 24.1},\n",
    "        {\"model\": \"Ford Mustang\", \"mpg\": 18.2}\n",
    "    ]\n",
    "}\n",
    "\n",
    "# Step 3: Open a file in write mode\n",
    "with file.open(\"w\") as handle:\n",
    "    # Step 4: Write the data to the file\n",
    "    json.dump(data, handle, indent=4)\n",
    "\n",
    "print(\"Data has been written to\", file.name)\n"
   ]
  },
  {
   "cell_type": "code",
   "execution_count": null,
   "metadata": {},
   "outputs": [],
   "source": [
    "# Reading a file\n",
    "import json\n",
    "import pathlib\n",
    "\n",
    "file = pathlib.Path(\"data.json\")\n",
    "\n",
    "# Step 1\n",
    "with file.open(\"r\") as handle:\n",
    "    read_data = json.load(handle)\n",
    "\n",
    "print(read_data)"
   ]
  },
  {
   "cell_type": "markdown",
   "metadata": {},
   "source": [
    "### Formatting\n",
    "\n",
    "The current way to format strings in Python is called the f-string."
   ]
  },
  {
   "cell_type": "code",
   "execution_count": null,
   "metadata": {},
   "outputs": [],
   "source": [
    "a = 1\n",
    "b = \"bla\"\n",
    "f\"2a={a*2}, b={b}\""
   ]
  },
  {
   "cell_type": "markdown",
   "metadata": {},
   "source": [
    "## Assignment\n",
    "\n",
    "Look at the `open_weather_assignment.py` module. The script fetch some weather information for the city of Brussels from the `OpenWeather` REST API and display some of the results. The challenge is to *refactor* this code to be able to query a list of cities. Proceed as follow:\n",
    "\n",
    "1. Register for a free API key on https://openweathermap.org/\n",
    "2. Look up the coordinates of a few cities (eg Brussels, Antwerp, Charleroi, Liège, Ostend).\n",
    "3. Restructure the code to have two functions:\n",
    "  * `get_weather`, which will query the REST API to fetch the weather data based on the latitude and longitude of the city;\n",
    "  * `display_weather`, which will show the result for a given city.\n",
    "4. Add a loop to go over all the cities\n",
    "5. (Bonus) add an error if the coordinates are outside of a sensical range (eg. `49 <= lat <= 52`, `2 <= lon <= 7`)"
   ]
  },
  {
   "cell_type": "markdown",
   "metadata": {},
   "source": [
    "## Summary\n",
    "\n",
    "In this training we went over\n",
    "- The conceptual shift from declarative to imperative programming\n",
    "- The Python ecosystem (REPL, script, modules, etc.)\n",
    "- The Python syntax\n",
    "    * Operation and variables\n",
    "    * Control flow (`if`, `for`, and exceptions)\n",
    "    * Functions\n",
    "    * File manipulation\n",
    "    * Formatting\n",
    "\n",
    "There is still much to learn to be comfortable in Python:\n",
    "- Decorator (use)\n",
    "- Object-Oriented Programming (OOP)\n",
    "- Dataclasses\n",
    "- Logging\n",
    "- Typing and type checkers\n",
    "- More data structures\n",
    "- Context manager basics\n",
    "- Testing\n",
    "- Versioning\n",
    "- etc.\n",
    "\n",
    "\n",
    "> Pro tip: code should always be written with the mindeset that it will need to be updated later by somebody else (you in 6 months counts as somebody else; you will remember little of what you wrote)"
   ]
  },
  {
   "cell_type": "markdown",
   "metadata": {},
   "source": [
    "## Appendix\n",
    "\n",
    "If time remains, we can go over\n",
    "- list/dictionary comprehensions and filtering\n",
    "- variadic functions and kwargs\n",
    "- string manipulation (eg. `split`, `join`)\n",
    "- an introduction of `set`\n",
    "- basics of algorithmic"
   ]
  },
  {
   "cell_type": "markdown",
   "metadata": {},
   "source": []
  }
 ],
 "metadata": {
  "kernelspec": {
   "display_name": "base",
   "language": "python",
   "name": "python3"
  },
  "language_info": {
   "codemirror_mode": {
    "name": "ipython",
    "version": 3
   },
   "file_extension": ".py",
   "mimetype": "text/x-python",
   "name": "python",
   "nbconvert_exporter": "python",
   "pygments_lexer": "ipython3",
   "version": "3.9.5"
  }
 },
 "nbformat": 4,
 "nbformat_minor": 2
}
