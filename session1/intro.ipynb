{
 "cells": [
  {
   "cell_type": "markdown",
   "metadata": {},
   "source": [
    "# Introduction to Python"
   ]
  },
  {
   "cell_type": "markdown",
   "metadata": {},
   "source": [
    "## From declarative to imperative"
   ]
  },
  {
   "cell_type": "markdown",
   "metadata": {},
   "source": [
    "## The Python ecosystem\n",
    "\n",
    "Script, module, package, REPL, notebooks, IDE, external libraries\n",
    "\n",
    "> Hello world!"
   ]
  },
  {
   "cell_type": "markdown",
   "metadata": {},
   "source": [
    "## The Python syntax\n",
    "\n",
    "- Operation on literals\n",
    "- Variable types and declaration\n",
    "- Control structure: `if`\n",
    "- Control structure: `for`\n",
    "- Basic data structure: `list` and `tuple`\n",
    "- Basic data structure: `dictionary`\n",
    "- function declaration\n",
    "- file manipulation"
   ]
  },
  {
   "cell_type": "markdown",
   "metadata": {},
   "source": [
    "### Literals and operators\n",
    "\n",
    "Strings, numbers and booleans can be encoded as literal in Python:\n",
    "\n",
    "| **Literal Type**       | **Example**                         |\n",
    "|------------------------|-------------------------------------|\n",
    "| **String Literals**    | `'Hello'`, `\"World\"`, `'''Hi'''`    |\n",
    "| **Numeric Literals**   | `42`, `3.14`, `1.0e4`, `3 + 4j`     |\n",
    "| **Boolean Literals**   | `True`, `False`                     |\n",
    "| **None Literal**       | `None`                              |\n",
    "\n",
    "\n",
    "\n",
    "You can perform (some of) the following operations between literals:\n",
    "\n",
    "| **Category**      | **Operator** | **Description**                                | **Example**                     |\n",
    "|-------------------|--------------|------------------------------------------------|---------------------------------|\n",
    "| Arithmetic        | `+`          | Addition                                       | `a + b`                         |\n",
    "|                   | `-`          | Subtraction                                    | `a - b`                         |\n",
    "|                   | `*`          | Multiplication                                 | `a * b`                         |\n",
    "|                   | `/`          | Division                                       | `a / b`                         |\n",
    "|                   | `//`         | Floor Division                                 | `a // b`                        |\n",
    "|                   | `%`          | Modulus (Remainder)                            | `a % b`                         |\n",
    "|                   | `**`         | Exponentiation                                 | `a ** b`                        |\n",
    "| Comparison        | `==`         | Equal to                                       | `a == b`                        |\n",
    "|                   | `!=`         | Not equal to                                   | `a != b`                        |\n",
    "|                   | `>`          | Greater than                                   | `a > b`                         |\n",
    "|                   | `<`          | Less than                                      | `a < b`                         |\n",
    "|                   | `>=`         | Greater than or equal to                       | `a >= b`                        |\n",
    "|                   | `<=`         | Less than or equal to                          | `a <= b`                        |\n",
    "| Logical           | `and`        | Logical AND                                    | `a and b`                       |\n",
    "|                   | `or`         | Logical OR                                     | `a or b`                        |\n",
    "|                   | `not`        | Logical NOT                                    | `not a`                         |\n"
   ]
  },
  {
   "cell_type": "code",
   "execution_count": 1,
   "metadata": {},
   "outputs": [
    {
     "data": {
      "text/plain": [
       "5"
      ]
     },
     "execution_count": 1,
     "metadata": {},
     "output_type": "execute_result"
    }
   ],
   "source": [
    "# Arithmetic\n",
    "\n",
    "2 + 3"
   ]
  },
  {
   "cell_type": "code",
   "execution_count": 10,
   "metadata": {},
   "outputs": [],
   "source": [
    "# What is the integer part and remainder of 59 plus 2 divided by 7 times 3 (don't forget the parentheses)"
   ]
  },
  {
   "cell_type": "code",
   "execution_count": 5,
   "metadata": {},
   "outputs": [
    {
     "data": {
      "text/plain": [
       "True"
      ]
     },
     "execution_count": 5,
     "metadata": {},
     "output_type": "execute_result"
    }
   ],
   "source": [
    "True and not False"
   ]
  },
  {
   "cell_type": "code",
   "execution_count": 6,
   "metadata": {},
   "outputs": [
    {
     "data": {
      "text/plain": [
       "'Hello'"
      ]
     },
     "execution_count": 6,
     "metadata": {},
     "output_type": "execute_result"
    }
   ],
   "source": [
    "# The validity and semantics of operators change according to the types (beware, break of communativity)\n",
    "\n",
    "\"Hell\" + \"o\""
   ]
  },
  {
   "cell_type": "code",
   "execution_count": 8,
   "metadata": {},
   "outputs": [
    {
     "data": {
      "text/plain": [
       "True"
      ]
     },
     "execution_count": 8,
     "metadata": {},
     "output_type": "execute_result"
    }
   ],
   "source": [
    "\"abcd\" < \"abef\"  # lexicographic ordering"
   ]
  },
  {
   "cell_type": "markdown",
   "metadata": {},
   "source": [
    "### Variables and delcaration\n",
    "You can store a value (literal or result) in a variable."
   ]
  },
  {
   "cell_type": "code",
   "execution_count": 9,
   "metadata": {},
   "outputs": [
    {
     "data": {
      "text/plain": [
       "5"
      ]
     },
     "execution_count": 9,
     "metadata": {},
     "output_type": "execute_result"
    }
   ],
   "source": [
    "x = 2\n",
    "y = 3\n",
    "\n",
    "z = 4*x - y\n",
    "10-z"
   ]
  },
  {
   "cell_type": "markdown",
   "metadata": {},
   "source": [
    "Some operators are dedicated to assignments:\n",
    "\n",
    "| **Category**      | **Operator** | **Description**                                | **Example**                     |\n",
    "|-------------------|--------------|------------------------------------------------|---------------------------------|\n",
    "| Assignment        | `=`          | Assign                                         | `a = b`                         |\n",
    "|                   | `+=`         | Add and assign                                 | `a += b` (equivalent to `a = a + b`) |\n",
    "|                   | `-=`         | Subtract and assign                            | `a -= b` (equivalent to `a = a - b`) |\n",
    "|                   | `*=`         | Multiply and assign                            | `a *= b` (equivalent to `a = a * b`) |\n",
    "|                   | `/=`         | Divide and assign                              | `a /= b` (equivalent to `a = a / b`) |\n",
    "|                   | `//=`        | Floor divide and assign                        | `a //= b` (equivalent to `a = a // b`) |\n",
    "|                   | `%=`         | Modulus and assign                             | `a %= b` (equivalent to `a = a % b`) |\n",
    "|                   | `**=`        | Exponentiate and assign                        | `a **= b` (equivalent to `a = a ** b`) |\n",
    "\n",
    "> :warning: the `=` is for assignments, it does not represent an equivalance relationship. In particular, it is not communative."
   ]
  },
  {
   "cell_type": "code",
   "execution_count": 11,
   "metadata": {},
   "outputs": [
    {
     "data": {
      "text/plain": [
       "7"
      ]
     },
     "execution_count": 11,
     "metadata": {},
     "output_type": "execute_result"
    }
   ],
   "source": [
    "x = 2\n",
    "x += 5\n",
    "x"
   ]
  },
  {
   "cell_type": "markdown",
   "metadata": {},
   "source": [
    ":skull: there exists other operators\n",
    "\n",
    "| **Category**      | **Operator** | **Description**                                | **Example**                     |\n",
    "|-------------------|--------------|------------------------------------------------|---------------------------------|\n",
    "| Bitwise           | `&`          | Bitwise AND                                    | `a & b`                         |\n",
    "|                   | `|`          | Bitwise OR                                     | `a | b`                         |\n",
    "|                   | `^`          | Bitwise XOR                                    | `a ^ b`                         |\n",
    "|                   | `~`          | Bitwise NOT                                    | `~a`                            |\n",
    "|                   | `<<`         | Bitwise left shift                             | `a << b`                        |\n",
    "|                   | `>>`         | Bitwise right shift                            | `a >> b`                        |\n",
    "| Identity          | `is`         | Is identical to                                | `a is b`                        |\n",
    "|                   | `is not`     | Is not identical to                            | `a is not b`                    |\n",
    "| Membership        | `in`         | Is a member of                                 | `a in b`                        |\n",
    "|                   | `not in`     | Is not a member of                             | `a not in b`                    |"
   ]
  },
  {
   "cell_type": "markdown",
   "metadata": {},
   "source": [
    "### Control structure: `if`\n",
    "\n",
    "Branching is a big part of imperative programming. It allows to select which code to execute given some context."
   ]
  },
  {
   "cell_type": "code",
   "execution_count": 13,
   "metadata": {},
   "outputs": [
    {
     "name": "stdout",
     "output_type": "stream",
     "text": [
      "x is odd\n"
     ]
    }
   ],
   "source": [
    "x = 3  # change the value of x\n",
    "if x % 2 == 0:\n",
    "    print(\"x is even\")\n",
    "else:\n",
    "    print(\"x is odd\")"
   ]
  },
  {
   "cell_type": "markdown",
   "metadata": {},
   "source": [
    "A few notes:\n",
    "- the content of the `if` clause must evaluate to a boolean\n",
    "- the `else` part is not mandatory in imperative programming\n",
    "- more paths are possible thanks to the `elif` statement."
   ]
  },
  {
   "cell_type": "code",
   "execution_count": 14,
   "metadata": {},
   "outputs": [
    {
     "name": "stdout",
     "output_type": "stream",
     "text": [
      "one\n"
     ]
    }
   ],
   "source": [
    "x = 1 # change the value of x\n",
    "\n",
    "if x == 1:\n",
    "    print(\"one\")\n",
    "elif x == 2:\n",
    "    print(\"two\")\n",
    "elif x == 3:\n",
    "    print(\"three\")\n",
    "else:\n",
    "    print(x)"
   ]
  },
  {
   "cell_type": "markdown",
   "metadata": {},
   "source": [
    "> :bulb: it is important to give clear names to variable so as to remember what they represent. In Python, the following conventions is used:\n",
    "\n",
    "| **Element**            | **Convention**                   | **Example**                      |\n",
    "|------------------------|----------------------------------|----------------------------------|\n",
    "| **Variable**           | snake_case                       | `my_variable`, `total_count`     |\n",
    "| **Constant**           | UPPER_CASE_SNAKE_CASE            | `PI`, `MAX_VALUE`                |\n",
    "| **Function**           | snake_case                       | `my_function()`, `calculate_total()` |\n",
    "| **Class**              | CamelCase (PascalCase)           | `MyClass`, `EmployeeDetails`     |\n",
    "| **Module**             | snake_case                       | `my_module.py`, `utils.py`       |\n",
    "| **Package**            | snake_case                       | `my_package`, `data_processing`  |\n",
    "| **Private Variable**   | _underscore_prefix               | `_private_variable`              |\n",
    "| **Private Function**   | _underscore_prefix               | `_private_function()`            |\n",
    "| **Special Method**     | __double_underscore__            | `__init__()`, `__str__()`        |\n"
   ]
  },
  {
   "cell_type": "markdown",
   "metadata": {},
   "source": [
    "### Control structure: `for`\n",
    "\n",
    "A `for` loop is used to iterate over some element."
   ]
  },
  {
   "cell_type": "code",
   "execution_count": 18,
   "metadata": {},
   "outputs": [
    {
     "name": "stdout",
     "output_type": "stream",
     "text": [
      "0, 1, 2, 3, 4, 5, 6, 7, 8, 9, "
     ]
    }
   ],
   "source": [
    "for x in range(10):\n",
    "    print(x, end=\", \")\n",
    "# Note how x goes from `0` to `9`"
   ]
  },
  {
   "cell_type": "markdown",
   "metadata": {},
   "source": [
    ":pencil2: write a loop that goes over the number from 0 to 100 and adds the multiples of 7."
   ]
  },
  {
   "cell_type": "markdown",
   "metadata": {},
   "source": [
    "### Basic data structure: `list` and `tuple`\n",
    "\n",
    "One of the most common data structures are `list` and `tuple`. They \n",
    "- can store elements (ie. container)\n",
    "- are finite (ie. collection)\n",
    "- are sequences (ie. ordered)\n",
    "\n",
    "The difference is that the `list` is mutable, but the `tuple` is not. Mutable means that it can change after creation."
   ]
  },
  {
   "cell_type": "code",
   "execution_count": 25,
   "metadata": {},
   "outputs": [
    {
     "name": "stdout",
     "output_type": "stream",
     "text": [
      "length: 3\n",
      "content:\n",
      "1\n",
      "2\n",
      "3\n",
      "2 in ls? True\n"
     ]
    },
    {
     "data": {
      "text/plain": [
       "[1, 2, 3, 4]"
      ]
     },
     "execution_count": 25,
     "metadata": {},
     "output_type": "execute_result"
    }
   ],
   "source": [
    "ls = [1, 2, 3]\n",
    "\n",
    "print(\"length:\", len(ls))\n",
    "print(\"content:\")\n",
    "# The sequence is indexable: we can access a given element via the `[]`\n",
    "print(ls[0])  # Note how we start at zero\n",
    "print(ls[1])\n",
    "print(ls[2])\n",
    "print(\"2 in ls?\", 2 in ls)\n",
    "\n",
    "ls.append(4)  # The list is mutable; in particular we can append to it\n",
    "ls"
   ]
  },
  {
   "cell_type": "code",
   "execution_count": 26,
   "metadata": {},
   "outputs": [
    {
     "name": "stdout",
     "output_type": "stream",
     "text": [
      "length: 3\n",
      "content:\n",
      "1\n",
      "2\n",
      "3\n",
      "2 in ts? True\n"
     ]
    }
   ],
   "source": [
    "ts = (1, 2, 3)\n",
    "\n",
    "print(\"length:\", len(ts))\n",
    "print(\"content:\")\n",
    "print(ts[0]) \n",
    "print(ts[1])\n",
    "print(ts[2])\n",
    "print(\"2 in ts?\", 2 in ts)\n",
    "\n",
    "# we cannot append to the tuple"
   ]
  },
  {
   "cell_type": "code",
   "execution_count": 37,
   "metadata": {},
   "outputs": [
    {
     "name": "stdout",
     "output_type": "stream",
     "text": [
      "Iterating over ls...\n",
      "1\n",
      "2\n",
      "3\n",
      "Iterating over ts...\n",
      "1\n",
      "2\n",
      "3\n"
     ]
    }
   ],
   "source": [
    "# You can iterate over lists and tuples\n",
    "ls = [1, 2, 3]\n",
    "ts = 1, 2, 3 # Note that the parentheses are not mandatory when creating a tuple\n",
    "\n",
    "print(\"Iterating over ls...\")\n",
    "for x in ls:\n",
    "    print(x, sep=\", \")\n",
    "\n",
    "print(\"Iterating over ts...\")\n",
    "for x in ts:\n",
    "    print(x, sep=\", \")"
   ]
  },
  {
   "cell_type": "code",
   "execution_count": 27,
   "metadata": {},
   "outputs": [
    {
     "data": {
      "text/plain": [
       "[1, 2, 3, 4, 5]"
      ]
     },
     "execution_count": 27,
     "metadata": {},
     "output_type": "execute_result"
    }
   ],
   "source": [
    "# You can concatenate lists:\n",
    "l1 = [1, 2, 3]\n",
    "l2 = [4, 5]\n",
    "l1+l2"
   ]
  },
  {
   "cell_type": "code",
   "execution_count": 28,
   "metadata": {},
   "outputs": [
    {
     "data": {
      "text/plain": [
       "(1, 2, 3)"
      ]
     },
     "execution_count": 28,
     "metadata": {},
     "output_type": "execute_result"
    }
   ],
   "source": [
    "# You can convert a list to a tuple:\n",
    "a = [1, 2, 3]\n",
    "tuple(a)"
   ]
  },
  {
   "cell_type": "code",
   "execution_count": 29,
   "metadata": {},
   "outputs": [
    {
     "data": {
      "text/plain": [
       "[1, 2, 3]"
      ]
     },
     "execution_count": 29,
     "metadata": {},
     "output_type": "execute_result"
    }
   ],
   "source": [
    "# and vice versa:\n",
    "b = 1, 2, 3  \n",
    "list(b)"
   ]
  },
  {
   "cell_type": "code",
   "execution_count": 30,
   "metadata": {},
   "outputs": [
    {
     "name": "stdout",
     "output_type": "stream",
     "text": [
      "1\n",
      "2\n",
      "3\n"
     ]
    }
   ],
   "source": [
    "# You unpack tuples (and lists)\n",
    "ts = 1, 2, 3\n",
    "t1, t2, t3 = ts\n",
    "print(t1)\n",
    "print(t2)\n",
    "print(t3)"
   ]
  },
  {
   "cell_type": "markdown",
   "metadata": {},
   "source": [
    ":pencil2: write the insertion sort algorithm: at iteration `k` the `k` first elements of a list are already sorted; the goal is to insert the next element at its proper place in the array by working backward from position `k` to `0`. "
   ]
  },
  {
   "cell_type": "code",
   "execution_count": null,
   "metadata": {},
   "outputs": [],
   "source": []
  },
  {
   "cell_type": "markdown",
   "metadata": {},
   "source": [
    "### Basic data structure: `dictionary`\n",
    "\n",
    "Another important data structure is mapping, which associates a key to a value."
   ]
  },
  {
   "cell_type": "code",
   "execution_count": 35,
   "metadata": {},
   "outputs": [
    {
     "name": "stdout",
     "output_type": "stream",
     "text": [
      "1\n",
      "2\n",
      "4\n",
      "one? True\n",
      "three? False\n",
      "keys: dict_keys(['one', 'two', 'four'])\n",
      "keys: dict_values([1, 2, 4])\n"
     ]
    }
   ],
   "source": [
    "map = {\"one\": 1, \"two\": 2, \"four\": 4}\n",
    "\n",
    "# The dictionary is indexable: we can access a given value via asking for a key with `[]`\n",
    "print(map[\"one\"])\n",
    "print(map[\"two\"])\n",
    "print(map[\"four\"])\n",
    "\n",
    "# We can also check whether a key is present in the dictionary\n",
    "print(\"one?\", \"one\" in map)\n",
    "print(\"three?\", \"three\" in map)\n",
    "\n",
    "\n",
    "# We can access the keys and values\n",
    "print(\"keys:\", map.keys())\n",
    "print(\"keys:\", map.values())\n"
   ]
  },
  {
   "cell_type": "code",
   "execution_count": 38,
   "metadata": {},
   "outputs": [
    {
     "name": "stdout",
     "output_type": "stream",
     "text": [
      "Iterating over keys:\n",
      "one, two, four, Iterating over values:\n",
      "1, 2, 4, Iterating over key/value pairs:\n",
      "one=1, two=2, four=4, "
     ]
    }
   ],
   "source": [
    "# the keys(), values() and items() allow to iterate over the elements\n",
    "print(\"Iterating over keys:\")\n",
    "for key in map.keys():\n",
    "    print(key, end=\", \")\n",
    "\n",
    "print(\"Iterating over values:\")\n",
    "for value in map.values():\n",
    "    print(value, end=\", \")\n",
    "\n",
    "print(\"Iterating over key/value pairs:\")\n",
    "for key, value in map.items():  # we receive tuples, which we unpack\n",
    "    print(key, \"=\", value, end=\", \", sep=\"\")"
   ]
  },
  {
   "cell_type": "code",
   "execution_count": 39,
   "metadata": {},
   "outputs": [
    {
     "name": "stdout",
     "output_type": "stream",
     "text": [
      "{'one': 1, 'two': 2, 'four': 4}\n",
      "{'one': 100, 'two': 2, 'four': 4}\n"
     ]
    }
   ],
   "source": [
    "# The dictionary is mutable, unordered and keys are unique\n",
    "\n",
    "map = {\"one\": 1, \"two\": 2, \"four\": 4}\n",
    "print(map)\n",
    "\n",
    "map[\"one\"] = 100\n",
    "print(map)\n"
   ]
  },
  {
   "cell_type": "markdown",
   "metadata": {},
   "source": [
    "> :book: Literal types for basic data strcutures\n",
    "\n",
    "| **Literal Type**       | **Example**                         |\n",
    "|------------------------|-------------------------------------|\n",
    "| **List Literals**      | `[1, 2, 3]`, `['a', 'b', 'c']`      |\n",
    "| **Tuple Literals**     | `(1, 2, 3)`, `('a', 'b', 'c')`      |\n",
    "| **Dictionary Literals**| `{'key1': 'value1'}`, `{1: 'one'}`  |\n",
    "| **Set Literals**       | `{1, 2, 3}`, `{'a', 'b', 'c'}`      |"
   ]
  },
  {
   "cell_type": "markdown",
   "metadata": {},
   "source": [
    "### Control flow: exceptions\n",
    "\n",
    "In Python, errors are handled via `Exception`. Here are a few examples."
   ]
  },
  {
   "cell_type": "code",
   "execution_count": 44,
   "metadata": {},
   "outputs": [
    {
     "ename": "ZeroDivisionError",
     "evalue": "division by zero",
     "output_type": "error",
     "traceback": [
      "\u001b[0;31m---------------------------------------------------------------------------\u001b[0m",
      "\u001b[0;31mZeroDivisionError\u001b[0m                         Traceback (most recent call last)",
      "Cell \u001b[0;32mIn[44], line 1\u001b[0m\n\u001b[0;32m----> 1\u001b[0m \u001b[38;5;241;43m10\u001b[39;49m\u001b[43m \u001b[49m\u001b[38;5;241;43m/\u001b[39;49m\u001b[43m \u001b[49m\u001b[38;5;241;43m0\u001b[39;49m\n",
      "\u001b[0;31mZeroDivisionError\u001b[0m: division by zero"
     ]
    }
   ],
   "source": [
    "10 / 0"
   ]
  },
  {
   "cell_type": "code",
   "execution_count": 42,
   "metadata": {},
   "outputs": [
    {
     "ename": "TypeError",
     "evalue": "unsupported operand type(s) for -: 'str' and 'int'",
     "output_type": "error",
     "traceback": [
      "\u001b[0;31m---------------------------------------------------------------------------\u001b[0m",
      "\u001b[0;31mTypeError\u001b[0m                                 Traceback (most recent call last)",
      "Cell \u001b[0;32mIn[42], line 1\u001b[0m\n\u001b[0;32m----> 1\u001b[0m \u001b[38;5;124;43m\"\u001b[39;49m\u001b[38;5;124;43mabc\u001b[39;49m\u001b[38;5;124;43m\"\u001b[39;49m\u001b[43m \u001b[49m\u001b[38;5;241;43m-\u001b[39;49m\u001b[43m \u001b[49m\u001b[38;5;241;43m2\u001b[39;49m\n",
      "\u001b[0;31mTypeError\u001b[0m: unsupported operand type(s) for -: 'str' and 'int'"
     ]
    }
   ],
   "source": [
    "\"abc\" - 2"
   ]
  },
  {
   "cell_type": "code",
   "execution_count": 43,
   "metadata": {},
   "outputs": [
    {
     "ename": "IndexError",
     "evalue": "list index out of range",
     "output_type": "error",
     "traceback": [
      "\u001b[0;31m---------------------------------------------------------------------------\u001b[0m",
      "\u001b[0;31mIndexError\u001b[0m                                Traceback (most recent call last)",
      "Cell \u001b[0;32mIn[43], line 2\u001b[0m\n\u001b[1;32m      1\u001b[0m ls \u001b[38;5;241m=\u001b[39m [\u001b[38;5;241m1\u001b[39m, \u001b[38;5;241m2\u001b[39m, \u001b[38;5;241m3\u001b[39m]\n\u001b[0;32m----> 2\u001b[0m \u001b[43mls\u001b[49m\u001b[43m[\u001b[49m\u001b[38;5;241;43m4\u001b[39;49m\u001b[43m]\u001b[49m\n",
      "\u001b[0;31mIndexError\u001b[0m: list index out of range"
     ]
    }
   ],
   "source": [
    "ls = [1, 2, 3]\n",
    "ls[4]"
   ]
  },
  {
   "cell_type": "code",
   "execution_count": 45,
   "metadata": {},
   "outputs": [
    {
     "ename": "KeyError",
     "evalue": "2",
     "output_type": "error",
     "traceback": [
      "\u001b[0;31m---------------------------------------------------------------------------\u001b[0m",
      "\u001b[0;31mKeyError\u001b[0m                                  Traceback (most recent call last)",
      "Cell \u001b[0;32mIn[45], line 2\u001b[0m\n\u001b[1;32m      1\u001b[0m \u001b[38;5;28mmap\u001b[39m \u001b[38;5;241m=\u001b[39m {\u001b[38;5;241m1\u001b[39m:\u001b[38;5;241m1\u001b[39m}\n\u001b[0;32m----> 2\u001b[0m \u001b[38;5;28;43mmap\u001b[39;49m\u001b[43m[\u001b[49m\u001b[38;5;241;43m2\u001b[39;49m\u001b[43m]\u001b[49m\n",
      "\u001b[0;31mKeyError\u001b[0m: 2"
     ]
    }
   ],
   "source": [
    "map = {1:1}\n",
    "map[2]"
   ]
  },
  {
   "cell_type": "markdown",
   "metadata": {},
   "source": [
    "In Python, you can raise and handle exceptions."
   ]
  },
  {
   "cell_type": "code",
   "execution_count": null,
   "metadata": {},
   "outputs": [],
   "source": []
  },
  {
   "cell_type": "markdown",
   "metadata": {},
   "source": [
    "### Function declaration\n"
   ]
  },
  {
   "cell_type": "markdown",
   "metadata": {},
   "source": [
    "### File manipulation"
   ]
  },
  {
   "cell_type": "markdown",
   "metadata": {},
   "source": [
    "### Formatting"
   ]
  },
  {
   "cell_type": "code",
   "execution_count": 20,
   "metadata": {},
   "outputs": [],
   "source": []
  }
 ],
 "metadata": {
  "kernelspec": {
   "display_name": "base",
   "language": "python",
   "name": "python3"
  },
  "language_info": {
   "codemirror_mode": {
    "name": "ipython",
    "version": 3
   },
   "file_extension": ".py",
   "mimetype": "text/x-python",
   "name": "python",
   "nbconvert_exporter": "python",
   "pygments_lexer": "ipython3",
   "version": "3.9.5"
  }
 },
 "nbformat": 4,
 "nbformat_minor": 2
}
