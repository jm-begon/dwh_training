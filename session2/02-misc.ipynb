{
 "cells": [
  {
   "cell_type": "markdown",
   "metadata": {},
   "source": [
    "# Misc\n",
    "\n",
    "This notebook will touch on many unrelated topics which are necessary to know to code in Python.\n",
    "\n",
    "**Outline**:\n",
    "- Data structures: set, complexity and comprehension\n",
    "- Variadic function and keyword arguments\n",
    "- Type annotation I\n",
    "- Enumation (and literals)\n",
    "- Formatting\n",
    "- Closing words"
   ]
  },
  {
   "cell_type": "markdown",
   "metadata": {},
   "source": [
    "## Data structures\n",
    "\n",
    "There are other data structures besides list, tuples and dictionary. Knowing when to use which structure is paramount to a good code.\n",
    "\n",
    "### Set\n",
    "\n",
    ":question: Tag the list, tuple and set data structures with the following terms:\n",
    "- container\n",
    "- ordered\n",
    "- mutable\n",
    "- iterable\n",
    "- sizable\n",
    "- duplicate-free"
   ]
  },
  {
   "cell_type": "markdown",
   "metadata": {},
   "source": [
    "\n",
    "### Complexity\n",
    "\n",
    "Let us consider the following example:\n"
   ]
  },
  {
   "cell_type": "code",
   "execution_count": 1,
   "metadata": {},
   "outputs": [],
   "source": [
    "def intersection(iterable, container):\n",
    "    result = set()\n",
    "    for x in iterable:\n",
    "        if x in container:\n",
    "            result.add(x)\n",
    "    \n",
    "    return result\n",
    "\n",
    "import random\n",
    "\n",
    "K = 1000000\n",
    "N = 100000\n",
    "\n",
    "a = [random.randint(0, K) for _ in range(N)]\n",
    "b = [random.randint(0, K) for _ in range(N)]"
   ]
  },
  {
   "cell_type": "code",
   "execution_count": 2,
   "metadata": {},
   "outputs": [],
   "source": [
    "_ = intersection(a, b)"
   ]
  },
  {
   "cell_type": "code",
   "execution_count": 3,
   "metadata": {},
   "outputs": [],
   "source": [
    "_ = intersection(a, set(b))"
   ]
  },
  {
   "cell_type": "markdown",
   "metadata": {},
   "source": [
    "The difference in runtime is (mostly) due to fact checking the presence of an element in a set is very fast. In opposition, the same operation on a list needs to iterate over all the elements. \n",
    "\n",
    "It is important to distinguish between what can be done with a data structure (interface) and how it is done (implementation). It is not because something can be done that it is efficient."
   ]
  },
  {
   "cell_type": "markdown",
   "metadata": {},
   "source": [
    "### Comprehension\n",
    "\n",
    "\n",
    "Data structures and mappings are so ubiquitous that Python provides syntactic sugar to create the basic types."
   ]
  },
  {
   "cell_type": "code",
   "execution_count": 4,
   "metadata": {},
   "outputs": [
    {
     "data": {
      "text/plain": [
       "[0, 9, 36, 81]"
      ]
     },
     "execution_count": 4,
     "metadata": {},
     "output_type": "execute_result"
    }
   ],
   "source": [
    "# List comprehension\n",
    "[i**2 for i in range(10) if i % 3 == 0]"
   ]
  },
  {
   "cell_type": "code",
   "execution_count": 5,
   "metadata": {},
   "outputs": [
    {
     "data": {
      "text/plain": [
       "{0, 9, 36, 81}"
      ]
     },
     "execution_count": 5,
     "metadata": {},
     "output_type": "execute_result"
    }
   ],
   "source": [
    "# Set\n",
    "{i**2 for i in range(10) if i % 3 == 0}"
   ]
  },
  {
   "cell_type": "code",
   "execution_count": 6,
   "metadata": {},
   "outputs": [
    {
     "data": {
      "text/plain": [
       "{0: 0, 3: 9, 6: 36, 9: 81}"
      ]
     },
     "execution_count": 6,
     "metadata": {},
     "output_type": "execute_result"
    }
   ],
   "source": [
    "# Dictionary\n",
    "{i:i**2 for i in range(10) if i % 3 == 0}"
   ]
  },
  {
   "cell_type": "code",
   "execution_count": 7,
   "metadata": {},
   "outputs": [
    {
     "data": {
      "text/plain": [
       "<generator object <genexpr> at 0x7fa31d5b9d60>"
      ]
     },
     "execution_count": 7,
     "metadata": {},
     "output_type": "execute_result"
    }
   ],
   "source": [
    "# Generator\n",
    "(i**2 for i in range(10) if i % 3 == 0)"
   ]
  },
  {
   "cell_type": "markdown",
   "metadata": {},
   "source": [
    "## Variadic function and keyword arguments\n",
    "\n",
    ":question: Can you guess the outcome of the following snippets?\n"
   ]
  },
  {
   "cell_type": "code",
   "execution_count": 8,
   "metadata": {},
   "outputs": [],
   "source": [
    "def f(x, y=\"y\", *args, **kwargs):\n",
    "    print(x, y, args, kwargs)"
   ]
  },
  {
   "cell_type": "code",
   "execution_count": 9,
   "metadata": {},
   "outputs": [
    {
     "name": "stdout",
     "output_type": "stream",
     "text": [
      "a y () {}\n"
     ]
    }
   ],
   "source": [
    "f(\"a\")"
   ]
  },
  {
   "cell_type": "code",
   "execution_count": 10,
   "metadata": {},
   "outputs": [
    {
     "name": "stdout",
     "output_type": "stream",
     "text": [
      "a b ('c', 'd') {}\n"
     ]
    }
   ],
   "source": [
    "f(\"a\", \"b\", \"c\", \"d\")"
   ]
  },
  {
   "cell_type": "code",
   "execution_count": 11,
   "metadata": {},
   "outputs": [
    {
     "name": "stdout",
     "output_type": "stream",
     "text": [
      "a b ('c',) {'e': 'e'}\n"
     ]
    }
   ],
   "source": [
    "f(\"a\", \"b\", \"c\", e=\"e\")"
   ]
  },
  {
   "cell_type": "code",
   "execution_count": 12,
   "metadata": {},
   "outputs": [
    {
     "ename": "TypeError",
     "evalue": "f() got multiple values for argument 'x'",
     "output_type": "error",
     "traceback": [
      "\u001b[0;31m---------------------------------------------------------------------------\u001b[0m",
      "\u001b[0;31mTypeError\u001b[0m                                 Traceback (most recent call last)",
      "Cell \u001b[0;32mIn[12], line 1\u001b[0m\n\u001b[0;32m----> 1\u001b[0m \u001b[43mf\u001b[49m\u001b[43m(\u001b[49m\u001b[38;5;124;43m\"\u001b[39;49m\u001b[38;5;124;43ma\u001b[39;49m\u001b[38;5;124;43m\"\u001b[39;49m\u001b[43m,\u001b[49m\u001b[43m \u001b[49m\u001b[38;5;124;43m\"\u001b[39;49m\u001b[38;5;124;43mb\u001b[39;49m\u001b[38;5;124;43m\"\u001b[39;49m\u001b[43m,\u001b[49m\u001b[43m \u001b[49m\u001b[43me\u001b[49m\u001b[38;5;241;43m=\u001b[39;49m\u001b[38;5;124;43m\"\u001b[39;49m\u001b[38;5;124;43me\u001b[39;49m\u001b[38;5;124;43m\"\u001b[39;49m\u001b[43m,\u001b[49m\u001b[43m \u001b[49m\u001b[43mx\u001b[49m\u001b[38;5;241;43m=\u001b[39;49m\u001b[38;5;124;43m\"\u001b[39;49m\u001b[38;5;124;43mx\u001b[39;49m\u001b[38;5;124;43m\"\u001b[39;49m\u001b[43m)\u001b[49m\n",
      "\u001b[0;31mTypeError\u001b[0m: f() got multiple values for argument 'x'"
     ]
    }
   ],
   "source": [
    "f(\"a\", \"b\", e=\"e\", x=\"x\")"
   ]
  },
  {
   "cell_type": "code",
   "execution_count": null,
   "metadata": {},
   "outputs": [],
   "source": [
    "f(*[\"a\", \"b\", \"c\"], **{\"w\":\"w\", \"v\":\"v\"})"
   ]
  },
  {
   "cell_type": "code",
   "execution_count": null,
   "metadata": {},
   "outputs": [],
   "source": [
    "def g(a, b, *, prefix=\"\"):\n",
    "    print(prefix, a, b)"
   ]
  },
  {
   "cell_type": "code",
   "execution_count": null,
   "metadata": {},
   "outputs": [],
   "source": [
    "g(1, 2)"
   ]
  },
  {
   "cell_type": "code",
   "execution_count": null,
   "metadata": {},
   "outputs": [],
   "source": [
    "g(1, 2, 3)"
   ]
  },
  {
   "cell_type": "code",
   "execution_count": null,
   "metadata": {},
   "outputs": [],
   "source": [
    "g(1, 2, prefix=3)"
   ]
  },
  {
   "cell_type": "markdown",
   "metadata": {},
   "source": [
    "## Type annotation\n",
    "\n",
    "Python is a dynamically typed language, meaning the type of an object must only be known at runtime. This offers great flexibility, but also prevents to check types and perform optimization before runtime (*eg* in a compiling stage).\n",
    "\n",
    "To provide more robust code, Python now offers the possibility to type the variables. Such annotations are quite straightforward (for the basic cases) and help the code be much more readable and maintainable.\n",
    "\n",
    "> You should always type production code.\n",
    "\n",
    "Here is an example:"
   ]
  },
  {
   "cell_type": "code",
   "execution_count": null,
   "metadata": {},
   "outputs": [
    {
     "name": "stdout",
     "output_type": "stream",
     "text": [
      "True\n",
      "False\n"
     ]
    }
   ],
   "source": [
    "from __future__ import annotations\n",
    "from typing import NamedTuple\n",
    "\n",
    "class Point(NamedTuple):\n",
    "    x: int\n",
    "    y: int\n",
    "\n",
    "\n",
    "class Rectangle:\n",
    "    def __init__(self, bottom_left: Point, top_right: Point) -> None:\n",
    "        self.bottom_left = bottom_left\n",
    "        self.top_right = top_right\n",
    "\n",
    "    def intersects(self, other: 'Rectangle') -> bool:\n",
    "        \"\"\"\n",
    "        Determine if this rectangle intersects with another rectangle.\n",
    "\n",
    "        :param other: Another rectangle to check for intersection.\n",
    "        :return: True if the rectangles intersect, False otherwise.\n",
    "        \"\"\"\n",
    "        # Extract the coordinates of the two rectangles\n",
    "        x1_min, y1_min = self.bottom_left\n",
    "        x1_max, y1_max = self.top_right\n",
    "        x2_min, y2_min = other.bottom_left\n",
    "        x2_max, y2_max = other.top_right\n",
    "\n",
    "        # Check if one rectangle is to the left of the other\n",
    "        if x1_max < x2_min or x2_max < x1_min:\n",
    "            return False\n",
    "\n",
    "        # Check if one rectangle is above the other\n",
    "        if y1_max < y2_min or y2_max < y1_min:\n",
    "            return False\n",
    "\n",
    "        # If neither of the above conditions are true, the rectangles intersect\n",
    "        return True\n"
   ]
  },
  {
   "cell_type": "code",
   "execution_count": null,
   "metadata": {},
   "outputs": [
    {
     "name": "stdout",
     "output_type": "stream",
     "text": [
      "True\n",
      "False\n"
     ]
    }
   ],
   "source": [
    "#   7 |                   +-----+\n",
    "#     |                   |     |      Rect3: (3, 6) to (4, 7)\n",
    "#   6 |                   +-----+\n",
    "#   5 |            +-----------------+\n",
    "#     |            |                 |    Rect2: (2,2) to (5,5)\n",
    "#   4 |      +-----+-----------+     |\n",
    "#     |      |     |           |     |\n",
    "#   3 |      |     |           |     |    \n",
    "#   2 |      |     +-----------------+\n",
    "#     |      |                 |\n",
    "#   1 |      +-----------------+  Rect1: (1,1) to (4,4)\n",
    "#     |\n",
    "#     |-------------------------------------------------\n",
    "#        0   1     2     3     4     5     6     7\n",
    "#\n",
    "\n",
    "# Example usage\n",
    "rect1 = Rectangle((1, 1), (4, 4)) \n",
    "rect2 = Rectangle((2, 2), (5, 5)) \n",
    "rect3 = Rectangle((3, 6), (4, 7)) \n",
    "\n",
    "print(rect1.intersects(rect2))  # Output: True (they intersect)\n",
    "print(rect1.intersects(rect3))  # Output: False (they do not intersect)\n",
    "\n"
   ]
  },
  {
   "cell_type": "markdown",
   "metadata": {},
   "source": [
    "> Typing and data structures: it is important to know exactly what properties you expect from a data structure to type it the more generally possible. This allow polymorphism (cf. OOP pillars)."
   ]
  },
  {
   "cell_type": "code",
   "execution_count": null,
   "metadata": {},
   "outputs": [],
   "source": [
    "from typing import Sequence, Iterable, Container, List, Tuple, Set, Collection"
   ]
  },
  {
   "cell_type": "markdown",
   "metadata": {},
   "source": [
    "## Enumeration\n",
    "\n",
    "Often you need to restrict the number of modalities of a variable to a certain range. There many ways to handle this situation in Python, and two good ones: enum and literals.\n"
   ]
  },
  {
   "cell_type": "code",
   "execution_count": null,
   "metadata": {},
   "outputs": [
    {
     "name": "stdout",
     "output_type": "stream",
     "text": [
      "RAG.RED / RED / red\n"
     ]
    }
   ],
   "source": [
    "from enum import Enum\n",
    "\n",
    "class RAG(Enum):\n",
    "    RED = \"red\"\n",
    "    AMBER = \"amber\"\n",
    "    GREEN = \"green\"\n",
    "\n",
    "\n",
    "\n",
    "def gimme_rag(color: RAG):\n",
    "    print(f\"{color} / {color.name} / {color.value}\")\n",
    "\n",
    "gimme_rag(RAG.RED)"
   ]
  },
  {
   "cell_type": "code",
   "execution_count": null,
   "metadata": {},
   "outputs": [],
   "source": [
    "from typing import Literal\n",
    "\n",
    "RAG = Literal[\"red\", \"amber\", \"green\"]\n",
    "\n",
    "def gimme_rag(color: RAG):\n",
    "    print(color)\n",
    "\n",
    "gimme_rag(\"red\")"
   ]
  },
  {
   "cell_type": "markdown",
   "metadata": {},
   "source": [
    "\n",
    "## Standard library\n",
    "Python comes with many interesting modules. Here is a selection:\n",
    "- `os`/`sys`: system-specific parameters and functions;\n",
    "- `datetime`: manipulation of date and time (limited support for timezones);\n",
    "- `logging`: built-in logging facility;\n",
    "- `pathlib`: path, file OOP manipulation interface;\n",
    "- `collections`: base classes for collections and a few useful concrete ones;\n",
    "- `itertools`: tools related to iteration;\n",
    "- `functools`: functional programming tools (decorators, partial, reduce, etc.);\n",
    "- `argparse`: built-in CLI argument parsings;\n",
    "- `math`/`random`: you have guessed it;\n",
    "- `re`: regular expression;\n",
    "- `pickle`: serialization library.\n"
   ]
  },
  {
   "cell_type": "markdown",
   "metadata": {},
   "source": [
    "## Formatting\n",
    "\n",
    "In Python 3.9, formatting string is done via the f-strings. Within the substitution expression of the f-string, you can give formatting options:"
   ]
  },
  {
   "cell_type": "code",
   "execution_count": null,
   "metadata": {},
   "outputs": [],
   "source": [
    "s = \"blabla\"\n",
    "print(f\"'{s:10}'\")  # Make sure the length is at least 10\n",
    "print(f\"'{s:>10}'\") # same + right aligned\n",
    "print(f\"'{s:^10}'\") # same but centered\n",
    "print(f\"{0.123456789:.1f}\")  # print as float (f) with 1 decimal (.1)\n",
    "print(f\"{0.123456789:e}\")  # print in scientific notation\n",
    "print(f\"{s!r}\")\n",
    "print(f\"{s}\")"
   ]
  },
  {
   "cell_type": "markdown",
   "metadata": {},
   "source": [
    "## Closing words\n",
    "\n",
    "In this notebook, we covered many small important parts. The next big step is to get comfortable with the language, as well as become more autonomous. The latter is usually done by\n",
    "- researching issues on the internet\n",
    "- reading the API doc\n",
    "- following and modifying examples\n",
    "- etc."
   ]
  }
 ],
 "metadata": {
  "kernelspec": {
   "display_name": "base",
   "language": "python",
   "name": "python3"
  },
  "language_info": {
   "codemirror_mode": {
    "name": "ipython",
    "version": 3
   },
   "file_extension": ".py",
   "mimetype": "text/x-python",
   "name": "python",
   "nbconvert_exporter": "python",
   "pygments_lexer": "ipython3",
   "version": "3.9.5"
  }
 },
 "nbformat": 4,
 "nbformat_minor": 2
}
