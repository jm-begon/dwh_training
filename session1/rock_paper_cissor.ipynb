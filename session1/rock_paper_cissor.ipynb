{
 "cells": [
  {
   "cell_type": "markdown",
   "metadata": {},
   "source": [
    "# Rock paper cissor puzzle\n",
    "\n",
    "This puzzle comes from the game *Cosmic Star Heroin*. You need to win 8 consecutives games of rock-paper-cissor. A tie counts as a fail. As the probability of winning are $\\frac{1}{8^3} = \\frac{1}{512}$, you receives the following cues regarding your opponents choices:\n",
    "- she will make the same choice in round 2 and 3;\n",
    "- she will make the same choice in round 1 and 4;\n",
    "- she will make the same choice in round 5 and 7;\n",
    "- she will not choose paper in round 2 and 3;\n",
    "- she will not choose rock in round 3 and 8;\n",
    "- she will never make the same choice more than twice in a row;\n",
    "- she will choose in round 5 what beats her choice for round 1;\n",
    "- she will use paper less than the other.\n",
    "\n",
    "What will be the moves of your opponent? \n",
    "\n",
    "As the problem is quite small (for a computer), you can generate all the possible configurations and filter out the ones violating a condition. You can represent a candidate solution as a tuple of 8 values and write a function for checking each constraint. You can then generate all the candidate solutions and go over each constraint in turn. Finally, you can convert your opponents moves into what you should play to beat them."
   ]
  },
  {
   "cell_type": "code",
   "execution_count": 1,
   "metadata": {},
   "outputs": [
    {
     "data": {
      "text/plain": [
       "512"
      ]
     },
     "execution_count": 1,
     "metadata": {},
     "output_type": "execute_result"
    }
   ],
   "source": []
  }
 ],
 "metadata": {
  "kernelspec": {
   "display_name": "base",
   "language": "python",
   "name": "python3"
  },
  "language_info": {
   "codemirror_mode": {
    "name": "ipython",
    "version": 3
   },
   "file_extension": ".py",
   "mimetype": "text/x-python",
   "name": "python",
   "nbconvert_exporter": "python",
   "pygments_lexer": "ipython3",
   "version": "3.9.5"
  }
 },
 "nbformat": 4,
 "nbformat_minor": 2
}
